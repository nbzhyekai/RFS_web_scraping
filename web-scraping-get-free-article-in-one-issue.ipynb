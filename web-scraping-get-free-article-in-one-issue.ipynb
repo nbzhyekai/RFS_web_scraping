{
 "metadata": {
  "language_info": {
   "codemirror_mode": {
    "name": "ipython",
    "version": 3
   },
   "file_extension": ".py",
   "mimetype": "text/x-python",
   "name": "python",
   "nbconvert_exporter": "python",
   "pygments_lexer": "ipython3",
   "version": "3.8.3-final"
  },
  "orig_nbformat": 2,
  "kernelspec": {
   "name": "python3",
   "display_name": "Python 3.8.3 64-bit (conda)",
   "metadata": {
    "interpreter": {
     "hash": "5af03e6f6884cdcbf495aa98cbd8d63d5d0ed05506dbd026ba0a4981213ae30b"
    }
   }
  }
 },
 "nbformat": 4,
 "nbformat_minor": 2,
 "cells": [
  {
   "cell_type": "code",
   "execution_count": 1,
   "metadata": {},
   "outputs": [],
   "source": [
    "import requests\n",
    "from bs4 import BeautifulSoup\n",
    "import re\n",
    "import json"
   ]
  },
  {
   "cell_type": "code",
   "execution_count": 2,
   "metadata": {},
   "outputs": [
    {
     "output_type": "stream",
     "name": "stdout",
     "text": [
      "https://academic.oup.com/rfs/issue/30/1\n"
     ]
    }
   ],
   "source": [
    "volume = 30\n",
    "issue = 1\n",
    "kv = {'user-agent': 'Mozilla/5.0'}\n",
    "url = \"https://academic.oup.com/rfs/issue/{:}/{:}\".format(volume, issue)\n",
    "print(url)"
   ]
  },
  {
   "cell_type": "code",
   "execution_count": 3,
   "metadata": {},
   "outputs": [],
   "source": [
    "r = requests.get(url, headers=kv, timeout=30)\n",
    "r.raise_for_status()\n",
    "r.status_code\n",
    "r.encoding = r.apparent_encoding"
   ]
  },
  {
   "cell_type": "code",
   "execution_count": 4,
   "metadata": {},
   "outputs": [
    {
     "output_type": "execute_result",
     "data": {
      "text/plain": [
       "{'user-agent': 'Mozilla/5.0', 'Accept-Encoding': 'gzip, deflate', 'Accept': '*/*', 'Connection': 'keep-alive'}"
      ]
     },
     "metadata": {},
     "execution_count": 4
    }
   ],
   "source": [
    "r.request.headers"
   ]
  },
  {
   "cell_type": "code",
   "execution_count": 5,
   "metadata": {},
   "outputs": [
    {
     "output_type": "execute_result",
     "data": {
      "text/plain": [
       "'\\r\\n\\r\\n<!DOCTYPE html>\\r\\n<html lang=\"en\">\\r\\n<head><meta name=\"viewport\" content=\"width=device-width, initial-scale=1, maximum-scale=1\" /><meta charset=\"utf-8\" /><meta http-equiv=\"Content-Type\" content=\"text/html; charset=utf-8\" /><meta http-equiv=\"X-UA-Compatible\" content=\"IE=Edge\" /><!-- Bookmark Icons -->\\r\\n  <link rel=\"apple-touch-icon\" sizes=\"180x180\" href=\"//oup.silverchair-cdn.com/UI/app/img/v-637502067956838175/apple-touch-icon.png\">\\r\\n  <link rel=\"icon\" type=\"image/png\" href=\"//oup.silverchair-cdn.com/UI/app/img/v-637502067956888256/favicon-32x32.png\" sizes=\"32x32\">\\r\\n  <link rel=\"icon\" type=\"image/png\" href=\"//oup.silverchair-cdn.com/UI/app/img/v-637502067956888256/favicon-16x16.png\" sizes=\"16x16\">\\r\\n  <link rel=\"mask-icon\" href=\"//oup.silverchair-cdn.com/UI/app/img/v-637502067957088168/safari-pinned-tab.svg\" color=\"#5bbad5\">\\r\\n  <link rel=\"shortcut icon\" href=\"//oup.silverchair-cdn.com/UI/app/img/v-637502067956888256/favicon.ico\">\\r\\n  <link rel=\"manifest\" href=\"//oup.silverchair-cdn.com'"
      ]
     },
     "metadata": {},
     "execution_count": 5
    }
   ],
   "source": [
    "r.text[:1000]"
   ]
  },
  {
   "cell_type": "code",
   "execution_count": 6,
   "metadata": {},
   "outputs": [],
   "source": [
    "soup = BeautifulSoup(r.text, 'html.parser')\n"
   ]
  },
  {
   "source": [
    "## get article links"
   ],
   "cell_type": "markdown",
   "metadata": {}
  },
  {
   "cell_type": "code",
   "execution_count": 7,
   "metadata": {
    "tags": []
   },
   "outputs": [
    {
     "output_type": "execute_result",
     "data": {
      "text/plain": [
       "['/rfs/article/30/1/120/2669961',\n",
       " '/rfs/article/30/1/281/2669958',\n",
       " '/rfs/article/30/1/162/2439511',\n",
       " '/rfs/article/30/1/2/2682977',\n",
       " '/rfs/article/30/1/80/2669972',\n",
       " '/rfs/article/30/1/211/2528255',\n",
       " '/rfs/article/30/1/245/2669940',\n",
       " '/rfs/article/30/1/324/2669974',\n",
       " '/rfs/article/30/1/48/2669965',\n",
       " '/rfs/article/30/1/1/2732656']"
      ]
     },
     "metadata": {},
     "execution_count": 7
    }
   ],
   "source": [
    "article_links = []\n",
    "\n",
    "for link in soup.findAll('a'):\n",
    "    try: \n",
    "        href = link.get('href')\n",
    "        # print(href)\n",
    "        search = re.search(r'/rfs/article/\\d{1,2}/\\d{1,2}/\\d{1,3}/\\d{7}', href)\n",
    "        if search:\n",
    "            # print(\"\\n found article link\")\n",
    "            # print(search.group(0))\n",
    "            # print('\\n')\n",
    "            article_links.append(search.group(0))\n",
    "    except:\n",
    "        pass\n",
    "\n",
    "\n",
    "article_links = list(set(article_links))\n",
    "article_links"
   ]
  },
  {
   "cell_type": "code",
   "execution_count": 8,
   "metadata": {},
   "outputs": [],
   "source": [
    "link = \"/rfs/article/34/1/149/5781971#supplementary-data\""
   ]
  },
  {
   "cell_type": "code",
   "execution_count": 9,
   "metadata": {},
   "outputs": [
    {
     "output_type": "execute_result",
     "data": {
      "text/plain": [
       "<re.Match object; span=(0, 29), match='/rfs/article/34/1/149/5781971'>"
      ]
     },
     "metadata": {},
     "execution_count": 9
    }
   ],
   "source": [
    "re.search(r'/rfs/article/\\d{1,2}/\\d{1,2}/\\d{1,3}/\\d{7}', link)"
   ]
  },
  {
   "cell_type": "code",
   "execution_count": 10,
   "metadata": {},
   "outputs": [
    {
     "output_type": "execute_result",
     "data": {
      "text/plain": [
       "'/rfs/article/34/1/149/5781971'"
      ]
     },
     "metadata": {},
     "execution_count": 10
    }
   ],
   "source": [
    "re.search(r'/rfs/article/\\d{1,2}/\\d{1,2}/\\d{1,4}/\\d{7}', link).group(0)"
   ]
  },
  {
   "source": [
    "## get free articles id"
   ],
   "cell_type": "markdown",
   "metadata": {}
  },
  {
   "cell_type": "code",
   "execution_count": 11,
   "metadata": {},
   "outputs": [
    {
     "output_type": "execute_result",
     "data": {
      "text/plain": [
       "<script type=\"text/javascript\">\n",
       "\n",
       "        /*******************************************************************************\n",
       "         * JS here is only being used to assign variables from values in the model\n",
       "         * logic should be implemented in external JS files, like client.script.js\n",
       "         *******************************************************************************/\n",
       "\n",
       "        var SCM = SCM || {};\n",
       "        var accessIcons = [{\"id\":2669961,\"icon\":\"icon-availability_cart\",\"title\":\"Available for Purchase\"},{\"id\":2528255,\"icon\":\"icon-availability_cart\",\"title\":\"Available for Purchase\"},{\"id\":2669972,\"icon\":\"icon-availability_free\",\"title\":\"Free\"},{\"id\":2669974,\"icon\":\"icon-availability_cart\",\"title\":\"Available for Purchase\"},{\"id\":2682977,\"icon\":\"icon-availability_free\",\"title\":\"Free\"},{\"id\":2732656,\"icon\":\"icon-availability_free\",\"title\":\"Free\"},{\"id\":2439511,\"icon\":\"icon-availability_cart\",\"title\":\"Available for Purchase\"},{\"id\":2669940,\"icon\":\"icon-availability_cart\",\"title\":\"Available for Purchase\"},{\"id\":2669958,\"icon\":\"icon-availability_cart\",\"title\":\"Available for Purchase\"},{\"id\":2669965,\"icon\":\"icon-availability_free\",\"title\":\"Free\"}];\n",
       "        if (SCM.AccessIcons) {\n",
       "            SCM.AccessIcons = SCM.AccessIcons.concat(accessIcons);\n",
       "        } else {\n",
       "            SCM.AccessIcons = accessIcons;\n",
       "        }\n",
       "        var accessAttributes =  [{\"id\":2669961,\"availableforpurchase\":true},{\"id\":2528255,\"availableforpurchase\":true},{\"id\":2669972,\"availableforpurchase\":false},{\"id\":2669974,\"availableforpurchase\":true},{\"id\":2682977,\"availableforpurchase\":false},{\"id\":2732656,\"availableforpurchase\":false},{\"id\":2439511,\"availableforpurchase\":true},{\"id\":2669940,\"availableforpurchase\":true},{\"id\":2669958,\"availableforpurchase\":true},{\"id\":2669965,\"availableforpurchase\":false}];\n",
       "        if (SCM.AccessAttributes) {\n",
       "            SCM.AccessAttributes = SCM.AccessAttributes.concat(accessAttributes);\n",
       "        } else {\n",
       "            SCM.AccessAttributes = accessAttributes;\n",
       "        }\n",
       "        \n",
       "    </script>"
      ]
     },
     "metadata": {},
     "execution_count": 11
    }
   ],
   "source": [
    "soup.find('div', 'widget widget-ArticleListAccess widget-instance-OUP_ArticleListAccess').find('script')"
   ]
  },
  {
   "cell_type": "code",
   "execution_count": 12,
   "metadata": {},
   "outputs": [
    {
     "output_type": "execute_result",
     "data": {
      "text/plain": [
       "[2669972, 2682977, 2732656, 2669965]"
      ]
     },
     "metadata": {},
     "execution_count": 12
    }
   ],
   "source": [
    "import json\n",
    "free_article_id = []\n",
    "script = soup.find('div', 'widget widget-ArticleListAccess widget-instance-OUP_ArticleListAccess').find('script').contents[0]\n",
    "free_articles = re.findall('{\"id\":\\d{7},\"icon\":\"icon-availability_free\",\"title\":\"Free\"}', script)\n",
    "for free_article in free_articles:\n",
    "    # print(free_article)\n",
    "    parsed = json.loads(free_article)\n",
    "    id = parsed['id']\n",
    "    free_article_id.append(id)\n",
    "\n",
    "free_article_id"
   ]
  },
  {
   "source": [
    "## get free article links"
   ],
   "cell_type": "markdown",
   "metadata": {}
  },
  {
   "cell_type": "code",
   "execution_count": 13,
   "metadata": {},
   "outputs": [
    {
     "output_type": "execute_result",
     "data": {
      "text/plain": [
       "['/rfs/article/30/1/2/2682977',\n",
       " '/rfs/article/30/1/80/2669972',\n",
       " '/rfs/article/30/1/48/2669965',\n",
       " '/rfs/article/30/1/1/2732656']"
      ]
     },
     "metadata": {},
     "execution_count": 13
    }
   ],
   "source": [
    "free_article_links = []\n",
    "for link in article_links:\n",
    "    if int(link.split('/')[-1]) in free_article_id:\n",
    "        # print(link)\n",
    "        free_article_links.append(link)\n",
    "\n",
    "free_article_links"
   ]
  },
  {
   "cell_type": "code",
   "execution_count": null,
   "metadata": {},
   "outputs": [],
   "source": []
  }
 ]
}