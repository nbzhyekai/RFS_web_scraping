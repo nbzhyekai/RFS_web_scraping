{
 "metadata": {
  "language_info": {
   "codemirror_mode": {
    "name": "ipython",
    "version": 3
   },
   "file_extension": ".py",
   "mimetype": "text/x-python",
   "name": "python",
   "nbconvert_exporter": "python",
   "pygments_lexer": "ipython3",
   "version": "3.8.3"
  },
  "orig_nbformat": 2,
  "kernelspec": {
   "name": "python383jvsc74a57bd05af03e6f6884cdcbf495aa98cbd8d63d5d0ed05506dbd026ba0a4981213ae30b",
   "display_name": "Python 3.8.3 64-bit ('base': conda)"
  }
 },
 "nbformat": 4,
 "nbformat_minor": 2,
 "cells": [
  {
   "cell_type": "code",
   "execution_count": 1,
   "metadata": {},
   "outputs": [
    {
     "output_type": "stream",
     "name": "stderr",
     "text": [
      "[nltk_data] Downloading package punkt to\n[nltk_data]     C:\\Users\\nbzhy\\AppData\\Roaming\\nltk_data...\n[nltk_data]   Package punkt is already up-to-date!\n"
     ]
    },
    {
     "output_type": "execute_result",
     "data": {
      "text/plain": [
       "True"
      ]
     },
     "metadata": {},
     "execution_count": 1
    }
   ],
   "source": [
    "import requests\n",
    "from bs4 import BeautifulSoup\n",
    "import re\n",
    "import json\n",
    "import pandas as pd\n",
    "from tqdm import tqdm\n",
    "import nltk\n",
    "nltk.download('punkt')"
   ]
  },
  {
   "cell_type": "code",
   "execution_count": 2,
   "metadata": {},
   "outputs": [],
   "source": [
    "# get all files\n",
    "import os\n",
    "import glob\n",
    "# change dir\n",
    "os.chdir('papers/RFS_2000_2021_full_text_html')\n",
    "files = glob.glob(\"*.html\")"
   ]
  },
  {
   "cell_type": "code",
   "execution_count": 3,
   "metadata": {},
   "outputs": [],
   "source": [
    "## sample file for test purpose\n",
    "# from random import sample\n",
    "# import random\n",
    "# random.seed(42)\n",
    "# files = sample(files,100)\n"
   ]
  },
  {
   "cell_type": "code",
   "execution_count": 4,
   "metadata": {},
   "outputs": [
    {
     "output_type": "execute_result",
     "data": {
      "text/plain": [
       "['0.html', '1.html', '10.html']"
      ]
     },
     "metadata": {},
     "execution_count": 4
    }
   ],
   "source": [
    "files[:3]"
   ]
  },
  {
   "cell_type": "code",
   "execution_count": 5,
   "metadata": {},
   "outputs": [],
   "source": [
    "def get_hypothesis(soup):\n",
    "\n",
    "    hypotheses = []\n",
    "    rules = []\n",
    "\n",
    "    # case 1:\n",
    "    results = soup.find_all(name='div', attrs='statement')\n",
    "\n",
    "    for result in results:\n",
    "        content = result.text\n",
    "        # print(content)\n",
    "        match = re.search('hypothes', content, re.I)\n",
    "        if match:\n",
    "            hypotheses.append(content)\n",
    "            rules.append(1)\n",
    "\n",
    "    # case 2:\n",
    "    results = soup.find_all(name='p', attrs='chapter-para')\n",
    "\n",
    "    for result in results:\n",
    "        content = result.text\n",
    "        # print(content)\n",
    "        try:\n",
    "            res = re.search('we.{1,10}hypothesize that.{1,300}\\.', content, re.I)\n",
    "            if res:\n",
    "                hypotheses.append(res.group(0))\n",
    "                rules.append(2)\n",
    "        except:\n",
    "            pass\n",
    "\n",
    "    # case 3:\n",
    "    for result in results:\n",
    "        content = result.text\n",
    "        # print(content)\n",
    "        try:\n",
    "            res = re.search('hypothesis \\d[a-z]?[\\s:].{1,300}', content, re.I)\n",
    "            if res:\n",
    "                hypotheses.append(res.group(0))\n",
    "                rules.append(3)\n",
    "        except:\n",
    "            pass\n",
    "\n",
    "    # case 4:\n",
    "    for result in results:\n",
    "        # print(result)\n",
    "        content = result.text\n",
    "        # print(content)\n",
    "        try:\n",
    "            res = re.search(r'Our.{1,10}hypothesis (\\bis\\b|\\bwas\\b) that.{1,300}\\.', content, re.I)\n",
    "            if res:\n",
    "                hypotheses.append(res.group(0))\n",
    "                rules.append(4)\n",
    "        except:\n",
    "            pass\n",
    "\n",
    "    # case 5:\n",
    "    for result in results:\n",
    "        # print(result)\n",
    "        content = result.text\n",
    "        # print(content)\n",
    "        try:\n",
    "            res = re.search(r'we.{5,15}the hypothesis that.{1,300}\\.', content, re.I)\n",
    "            if res:\n",
    "                hypotheses.append(res.group(0))\n",
    "                rules.append(5)\n",
    "        except:\n",
    "            pass\n",
    "\n",
    "    # case 6:\n",
    "    for result in results:\n",
    "        # print(result)\n",
    "        content = result.text\n",
    "        # print(content)\n",
    "        try:\n",
    "            res = re.search(r'.{100,400}\\. To test this hypothesis', content)\n",
    "            if res:\n",
    "                res = res.group(0)\n",
    "                if '\\n' in res:\n",
    "                    res = res.split('\\n')[-1]\n",
    "                sent_text = nltk.sent_tokenize(res)\n",
    "                hypotheses.append(sent_text[-2])\n",
    "                rules.append(6)\n",
    "\n",
    "            res = re.search(r'.{100,400}\\. To test these hypotheses', content) # remove \"To test these hypothesis\"\n",
    "            if res:\n",
    "                res = res.group(0)\n",
    "                if '\\n' in res:\n",
    "                    res = res.split('\\n')[-1]\n",
    "                sent_text = nltk.sent_tokenize(res)\n",
    "                hypotheses.append(sent_text[-2])\n",
    "                rules.append(6)\n",
    "        except:\n",
    "            pass\n",
    "\n",
    "\n",
    "    return hypotheses, rules"
   ]
  },
  {
   "cell_type": "code",
   "execution_count": 6,
   "metadata": {},
   "outputs": [],
   "source": [
    "def main(file):\n",
    "    with open(file, encoding='utf-8') as fp:\n",
    "        soup = BeautifulSoup(fp, 'html.parser')\n",
    "    return get_hypothesis(soup)"
   ]
  },
  {
   "source": [
    "## get hypothesis from all free articles"
   ],
   "cell_type": "markdown",
   "metadata": {}
  },
  {
   "cell_type": "code",
   "execution_count": 7,
   "metadata": {},
   "outputs": [
    {
     "output_type": "stream",
     "name": "stderr",
     "text": [
      "100%|██████████| 1813/1813 [43:06<00:00,  1.43s/it]\n"
     ]
    }
   ],
   "source": [
    "file_names = []\n",
    "H = []\n",
    "R = []\n",
    "for file in tqdm(files):\n",
    "    hypotheses, rules = main(file)\n",
    "    if hypotheses:\n",
    "        H += hypotheses\n",
    "        R += rules\n",
    "        [file_names.append(file) for _ in range(len(hypotheses))]\n",
    "    "
   ]
  },
  {
   "cell_type": "code",
   "execution_count": 8,
   "metadata": {},
   "outputs": [
    {
     "output_type": "execute_result",
     "data": {
      "text/plain": [
       "(940, 940, 940)"
      ]
     },
     "metadata": {},
     "execution_count": 8
    }
   ],
   "source": [
    "len(file_names), len(H), len(R)"
   ]
  },
  {
   "cell_type": "code",
   "execution_count": 9,
   "metadata": {},
   "outputs": [],
   "source": [
    "import pandas as pd\n",
    "df = pd.DataFrame({'file': file_names, 'hypothesis': H, 'rules': R})"
   ]
  },
  {
   "cell_type": "code",
   "execution_count": 10,
   "metadata": {},
   "outputs": [
    {
     "output_type": "execute_result",
     "data": {
      "text/plain": [
       "        file                                         hypothesis  rules\n",
       "0     0.html  Banks with low Tier 1 ratios are closer to reg...      6\n",
       "1     0.html  If firms cannot easily substitute to external ...      6\n",
       "2  1000.html  we examine the hypothesis that the observed di...      5\n",
       "3  1000.html  we test the hypothesis that investors and lend...      5\n",
       "4  1002.html  We hypothesize that skilled managers with inno...      2"
      ],
      "text/html": "<div>\n<style scoped>\n    .dataframe tbody tr th:only-of-type {\n        vertical-align: middle;\n    }\n\n    .dataframe tbody tr th {\n        vertical-align: top;\n    }\n\n    .dataframe thead th {\n        text-align: right;\n    }\n</style>\n<table border=\"1\" class=\"dataframe\">\n  <thead>\n    <tr style=\"text-align: right;\">\n      <th></th>\n      <th>file</th>\n      <th>hypothesis</th>\n      <th>rules</th>\n    </tr>\n  </thead>\n  <tbody>\n    <tr>\n      <th>0</th>\n      <td>0.html</td>\n      <td>Banks with low Tier 1 ratios are closer to reg...</td>\n      <td>6</td>\n    </tr>\n    <tr>\n      <th>1</th>\n      <td>0.html</td>\n      <td>If firms cannot easily substitute to external ...</td>\n      <td>6</td>\n    </tr>\n    <tr>\n      <th>2</th>\n      <td>1000.html</td>\n      <td>we examine the hypothesis that the observed di...</td>\n      <td>5</td>\n    </tr>\n    <tr>\n      <th>3</th>\n      <td>1000.html</td>\n      <td>we test the hypothesis that investors and lend...</td>\n      <td>5</td>\n    </tr>\n    <tr>\n      <th>4</th>\n      <td>1002.html</td>\n      <td>We hypothesize that skilled managers with inno...</td>\n      <td>2</td>\n    </tr>\n  </tbody>\n</table>\n</div>"
     },
     "metadata": {},
     "execution_count": 10
    }
   ],
   "source": [
    "df.head()"
   ]
  },
  {
   "cell_type": "code",
   "execution_count": 11,
   "metadata": {},
   "outputs": [],
   "source": [
    "df = df.drop_duplicates()"
   ]
  },
  {
   "cell_type": "code",
   "execution_count": 17,
   "metadata": {},
   "outputs": [],
   "source": [
    "df.to_csv('../../RFS_extracted_hypothesis.csv')"
   ]
  },
  {
   "cell_type": "code",
   "execution_count": 12,
   "metadata": {},
   "outputs": [
    {
     "output_type": "execute_result",
     "data": {
      "text/plain": [
       "                                                 doi  \\\n",
       "0  https://doi-org.libproxy1.nus.edu.sg/10.1093/r...   \n",
       "1  https://doi-org.libproxy1.nus.edu.sg/10.1093/r...   \n",
       "2  https://doi-org.libproxy1.nus.edu.sg/10.1093/r...   \n",
       "3  https://doi-org.libproxy1.nus.edu.sg/10.1093/r...   \n",
       "4  https://doi-org.libproxy1.nus.edu.sg/10.1093/r...   \n",
       "\n",
       "                                               title  volume  issue  \\\n",
       "0  The Rise of Shadow Banking: Evidence from Capi...      34      5   \n",
       "1    Mortgage Securitization and Shadow Bank Lending      34      5   \n",
       "2  Learning about Competitors: Evidence from SME ...      34      5   \n",
       "3  Marketplace Lending, Information Aggregation, ...      34      5   \n",
       "4  Mutual Funds as Venture Capitalists? Evidence ...      34      5   \n",
       "\n",
       "                                            abstract  full_text_filename  \\\n",
       "0  We investigate the connections between bank ca...                 NaN   \n",
       "1  We show how securitization affects the size of...                 NaN   \n",
       "2  We study how small and medium enterprise (SME)...                 NaN   \n",
       "3  Lending marketplaces aimed at directly connect...                 NaN   \n",
       "4  “Founder-friendly” venture financings and nont...                 NaN   \n",
       "\n",
       "  full_text_html_filename  \n",
       "0                  0.html  \n",
       "1                  1.html  \n",
       "2                  2.html  \n",
       "3                  3.html  \n",
       "4                  4.html  "
      ],
      "text/html": "<div>\n<style scoped>\n    .dataframe tbody tr th:only-of-type {\n        vertical-align: middle;\n    }\n\n    .dataframe tbody tr th {\n        vertical-align: top;\n    }\n\n    .dataframe thead th {\n        text-align: right;\n    }\n</style>\n<table border=\"1\" class=\"dataframe\">\n  <thead>\n    <tr style=\"text-align: right;\">\n      <th></th>\n      <th>doi</th>\n      <th>title</th>\n      <th>volume</th>\n      <th>issue</th>\n      <th>abstract</th>\n      <th>full_text_filename</th>\n      <th>full_text_html_filename</th>\n    </tr>\n  </thead>\n  <tbody>\n    <tr>\n      <th>0</th>\n      <td>https://doi-org.libproxy1.nus.edu.sg/10.1093/r...</td>\n      <td>The Rise of Shadow Banking: Evidence from Capi...</td>\n      <td>34</td>\n      <td>5</td>\n      <td>We investigate the connections between bank ca...</td>\n      <td>NaN</td>\n      <td>0.html</td>\n    </tr>\n    <tr>\n      <th>1</th>\n      <td>https://doi-org.libproxy1.nus.edu.sg/10.1093/r...</td>\n      <td>Mortgage Securitization and Shadow Bank Lending</td>\n      <td>34</td>\n      <td>5</td>\n      <td>We show how securitization affects the size of...</td>\n      <td>NaN</td>\n      <td>1.html</td>\n    </tr>\n    <tr>\n      <th>2</th>\n      <td>https://doi-org.libproxy1.nus.edu.sg/10.1093/r...</td>\n      <td>Learning about Competitors: Evidence from SME ...</td>\n      <td>34</td>\n      <td>5</td>\n      <td>We study how small and medium enterprise (SME)...</td>\n      <td>NaN</td>\n      <td>2.html</td>\n    </tr>\n    <tr>\n      <th>3</th>\n      <td>https://doi-org.libproxy1.nus.edu.sg/10.1093/r...</td>\n      <td>Marketplace Lending, Information Aggregation, ...</td>\n      <td>34</td>\n      <td>5</td>\n      <td>Lending marketplaces aimed at directly connect...</td>\n      <td>NaN</td>\n      <td>3.html</td>\n    </tr>\n    <tr>\n      <th>4</th>\n      <td>https://doi-org.libproxy1.nus.edu.sg/10.1093/r...</td>\n      <td>Mutual Funds as Venture Capitalists? Evidence ...</td>\n      <td>34</td>\n      <td>5</td>\n      <td>“Founder-friendly” venture financings and nont...</td>\n      <td>NaN</td>\n      <td>4.html</td>\n    </tr>\n  </tbody>\n</table>\n</div>"
     },
     "metadata": {},
     "execution_count": 12
    }
   ],
   "source": [
    "metadata = pd.read_csv('../RFS_2000_2021.csv', index_col=0)\n",
    "metadata.head()"
   ]
  },
  {
   "cell_type": "code",
   "execution_count": 13,
   "metadata": {},
   "outputs": [],
   "source": [
    "H_merged = pd.merge(metadata, df, how='right', left_on='full_text_html_filename', right_on='file')\n",
    "H_merged = H_merged.drop('file', axis=1)"
   ]
  },
  {
   "cell_type": "code",
   "execution_count": 14,
   "metadata": {},
   "outputs": [
    {
     "output_type": "execute_result",
     "data": {
      "text/plain": [
       "                                                 doi  \\\n",
       "0  https://doi-org.libproxy1.nus.edu.sg/10.1093/r...   \n",
       "1  https://doi-org.libproxy1.nus.edu.sg/10.1093/r...   \n",
       "2  https://doi-org.libproxy1.nus.edu.sg/10.1093/r...   \n",
       "3  https://doi-org.libproxy1.nus.edu.sg/10.1093/r...   \n",
       "4  https://doi-org.libproxy1.nus.edu.sg/10.1093/r...   \n",
       "\n",
       "                                               title  volume  issue  \\\n",
       "0  The Rise of Shadow Banking: Evidence from Capi...      34      5   \n",
       "1  The Rise of Shadow Banking: Evidence from Capi...      34      5   \n",
       "2  Marketplace Lending, Information Aggregation, ...      34      5   \n",
       "3  Marketplace Lending, Information Aggregation, ...      34      5   \n",
       "4  Mutual Funds as Venture Capitalists? Evidence ...      34      5   \n",
       "\n",
       "                                            abstract  full_text_filename  \\\n",
       "0  We investigate the connections between bank ca...                 NaN   \n",
       "1  We investigate the connections between bank ca...                 NaN   \n",
       "2  Lending marketplaces aimed at directly connect...                 NaN   \n",
       "3  Lending marketplaces aimed at directly connect...                 NaN   \n",
       "4  “Founder-friendly” venture financings and nont...                 NaN   \n",
       "\n",
       "  full_text_html_filename                                         hypothesis  \\\n",
       "0                  0.html  Banks with low Tier 1 ratios are closer to reg...   \n",
       "1                  0.html  If firms cannot easily substitute to external ...   \n",
       "2                  3.html  we reject the hypothesis that the interest rat...   \n",
       "3                  3.html  we cannot reject the hypothesis that such a sw...   \n",
       "4                  4.html  Hypothesis 1.Mutual funds are more likely to i...   \n",
       "\n",
       "   rules  \n",
       "0      6  \n",
       "1      6  \n",
       "2      5  \n",
       "3      5  \n",
       "4      1  "
      ],
      "text/html": "<div>\n<style scoped>\n    .dataframe tbody tr th:only-of-type {\n        vertical-align: middle;\n    }\n\n    .dataframe tbody tr th {\n        vertical-align: top;\n    }\n\n    .dataframe thead th {\n        text-align: right;\n    }\n</style>\n<table border=\"1\" class=\"dataframe\">\n  <thead>\n    <tr style=\"text-align: right;\">\n      <th></th>\n      <th>doi</th>\n      <th>title</th>\n      <th>volume</th>\n      <th>issue</th>\n      <th>abstract</th>\n      <th>full_text_filename</th>\n      <th>full_text_html_filename</th>\n      <th>hypothesis</th>\n      <th>rules</th>\n    </tr>\n  </thead>\n  <tbody>\n    <tr>\n      <th>0</th>\n      <td>https://doi-org.libproxy1.nus.edu.sg/10.1093/r...</td>\n      <td>The Rise of Shadow Banking: Evidence from Capi...</td>\n      <td>34</td>\n      <td>5</td>\n      <td>We investigate the connections between bank ca...</td>\n      <td>NaN</td>\n      <td>0.html</td>\n      <td>Banks with low Tier 1 ratios are closer to reg...</td>\n      <td>6</td>\n    </tr>\n    <tr>\n      <th>1</th>\n      <td>https://doi-org.libproxy1.nus.edu.sg/10.1093/r...</td>\n      <td>The Rise of Shadow Banking: Evidence from Capi...</td>\n      <td>34</td>\n      <td>5</td>\n      <td>We investigate the connections between bank ca...</td>\n      <td>NaN</td>\n      <td>0.html</td>\n      <td>If firms cannot easily substitute to external ...</td>\n      <td>6</td>\n    </tr>\n    <tr>\n      <th>2</th>\n      <td>https://doi-org.libproxy1.nus.edu.sg/10.1093/r...</td>\n      <td>Marketplace Lending, Information Aggregation, ...</td>\n      <td>34</td>\n      <td>5</td>\n      <td>Lending marketplaces aimed at directly connect...</td>\n      <td>NaN</td>\n      <td>3.html</td>\n      <td>we reject the hypothesis that the interest rat...</td>\n      <td>5</td>\n    </tr>\n    <tr>\n      <th>3</th>\n      <td>https://doi-org.libproxy1.nus.edu.sg/10.1093/r...</td>\n      <td>Marketplace Lending, Information Aggregation, ...</td>\n      <td>34</td>\n      <td>5</td>\n      <td>Lending marketplaces aimed at directly connect...</td>\n      <td>NaN</td>\n      <td>3.html</td>\n      <td>we cannot reject the hypothesis that such a sw...</td>\n      <td>5</td>\n    </tr>\n    <tr>\n      <th>4</th>\n      <td>https://doi-org.libproxy1.nus.edu.sg/10.1093/r...</td>\n      <td>Mutual Funds as Venture Capitalists? Evidence ...</td>\n      <td>34</td>\n      <td>5</td>\n      <td>“Founder-friendly” venture financings and nont...</td>\n      <td>NaN</td>\n      <td>4.html</td>\n      <td>Hypothesis 1.Mutual funds are more likely to i...</td>\n      <td>1</td>\n    </tr>\n  </tbody>\n</table>\n</div>"
     },
     "metadata": {},
     "execution_count": 14
    }
   ],
   "source": [
    "H_merged.head()"
   ]
  },
  {
   "cell_type": "code",
   "execution_count": 15,
   "metadata": {},
   "outputs": [],
   "source": [
    "H_merged.to_csv('../../RFS_extracted_hypothesis_with_paper_info.csv')"
   ]
  },
  {
   "cell_type": "code",
   "execution_count": 16,
   "metadata": {},
   "outputs": [
    {
     "output_type": "execute_result",
     "data": {
      "text/plain": [
       "                                                   doi  \\\n",
       "0    https://doi-org.libproxy1.nus.edu.sg/10.1093/r...   \n",
       "1    https://doi-org.libproxy1.nus.edu.sg/10.1093/r...   \n",
       "11   https://doi-org.libproxy1.nus.edu.sg/10.1093/r...   \n",
       "14   https://doi-org.libproxy1.nus.edu.sg/10.1093/r...   \n",
       "15   https://doi-org.libproxy1.nus.edu.sg/10.1093/r...   \n",
       "..                                                 ...   \n",
       "863  https://doi-org.libproxy1.nus.edu.sg/10.1093/r...   \n",
       "871  https://doi-org.libproxy1.nus.edu.sg/10.1093/r...   \n",
       "872  https://doi-org.libproxy1.nus.edu.sg/10.1093/r...   \n",
       "920  https://doi-org.libproxy1.nus.edu.sg/10.1093/r...   \n",
       "925  https://doi-org.libproxy1.nus.edu.sg/10.1093/r...   \n",
       "\n",
       "                                                 title  volume  issue  \\\n",
       "0    The Rise of Shadow Banking: Evidence from Capi...      34      5   \n",
       "1    The Rise of Shadow Banking: Evidence from Capi...      34      5   \n",
       "11   Mutual Funds as Venture Capitalists? Evidence ...      34      5   \n",
       "14   Public Market Players in the Private World: Im...      34      5   \n",
       "15   Public Market Players in the Private World: Im...      34      5   \n",
       "..                                                 ...     ...    ...   \n",
       "863  Confronting Information Asymmetries: Evidence ...      17      2   \n",
       "871  Greener Pastures and the Impact of Dynamic Ins...      16      4   \n",
       "872  Greener Pastures and the Impact of Dynamic Ins...      16      4   \n",
       "920            Financial Constraints and Stock Returns      14      2   \n",
       "925  Government Intervention and Adverse Selection ...      13      2   \n",
       "\n",
       "                                              abstract  full_text_filename  \\\n",
       "0    We investigate the connections between bank ca...                 NaN   \n",
       "1    We investigate the connections between bank ca...                 NaN   \n",
       "11   “Founder-friendly” venture financings and nont...                 NaN   \n",
       "14   We investigate the effect of pre-IPO investmen...                 NaN   \n",
       "15   We investigate the effect of pre-IPO investmen...                 NaN   \n",
       "..                                                 ...                 ...   \n",
       "863  There are relatively few direct tests of the e...                 NaN   \n",
       "871  Although institutional investors have a prefer...                 NaN   \n",
       "872  Although institutional investors have a prefer...                 NaN   \n",
       "920  We test whether the impact of financial constr...                 NaN   \n",
       "925  An important group of traders in the foreign e...                 NaN   \n",
       "\n",
       "    full_text_html_filename  \\\n",
       "0                    0.html   \n",
       "1                    0.html   \n",
       "11                   4.html   \n",
       "14                   5.html   \n",
       "15                   5.html   \n",
       "..                      ...   \n",
       "863               1759.html   \n",
       "871               1779.html   \n",
       "872               1779.html   \n",
       "920               1894.html   \n",
       "925               1935.html   \n",
       "\n",
       "                                            hypothesis  rules  \n",
       "0    Banks with low Tier 1 ratios are closer to reg...      6  \n",
       "1    If firms cannot easily substitute to external ...      6  \n",
       "11   If mutual funds are indeed negotiating and sel...      6  \n",
       "14   In a similar spirit, we expect that institutio...      6  \n",
       "15   We hypothesize that the institutions’ pre-IPO ...      6  \n",
       "..                                                 ...    ...  \n",
       "863  Predictions 6 (VTB and bank debt substitution)...      6  \n",
       "871  If institutions are partially responsible for ...      6  \n",
       "872  We hypothesize that institutional investors ma...      6  \n",
       "920  They conjecture that common variation in stock...      6  \n",
       "925  In Section 1, we provide a model that shows th...      6  \n",
       "\n",
       "[75 rows x 9 columns]"
      ],
      "text/html": "<div>\n<style scoped>\n    .dataframe tbody tr th:only-of-type {\n        vertical-align: middle;\n    }\n\n    .dataframe tbody tr th {\n        vertical-align: top;\n    }\n\n    .dataframe thead th {\n        text-align: right;\n    }\n</style>\n<table border=\"1\" class=\"dataframe\">\n  <thead>\n    <tr style=\"text-align: right;\">\n      <th></th>\n      <th>doi</th>\n      <th>title</th>\n      <th>volume</th>\n      <th>issue</th>\n      <th>abstract</th>\n      <th>full_text_filename</th>\n      <th>full_text_html_filename</th>\n      <th>hypothesis</th>\n      <th>rules</th>\n    </tr>\n  </thead>\n  <tbody>\n    <tr>\n      <th>0</th>\n      <td>https://doi-org.libproxy1.nus.edu.sg/10.1093/r...</td>\n      <td>The Rise of Shadow Banking: Evidence from Capi...</td>\n      <td>34</td>\n      <td>5</td>\n      <td>We investigate the connections between bank ca...</td>\n      <td>NaN</td>\n      <td>0.html</td>\n      <td>Banks with low Tier 1 ratios are closer to reg...</td>\n      <td>6</td>\n    </tr>\n    <tr>\n      <th>1</th>\n      <td>https://doi-org.libproxy1.nus.edu.sg/10.1093/r...</td>\n      <td>The Rise of Shadow Banking: Evidence from Capi...</td>\n      <td>34</td>\n      <td>5</td>\n      <td>We investigate the connections between bank ca...</td>\n      <td>NaN</td>\n      <td>0.html</td>\n      <td>If firms cannot easily substitute to external ...</td>\n      <td>6</td>\n    </tr>\n    <tr>\n      <th>11</th>\n      <td>https://doi-org.libproxy1.nus.edu.sg/10.1093/r...</td>\n      <td>Mutual Funds as Venture Capitalists? Evidence ...</td>\n      <td>34</td>\n      <td>5</td>\n      <td>“Founder-friendly” venture financings and nont...</td>\n      <td>NaN</td>\n      <td>4.html</td>\n      <td>If mutual funds are indeed negotiating and sel...</td>\n      <td>6</td>\n    </tr>\n    <tr>\n      <th>14</th>\n      <td>https://doi-org.libproxy1.nus.edu.sg/10.1093/r...</td>\n      <td>Public Market Players in the Private World: Im...</td>\n      <td>34</td>\n      <td>5</td>\n      <td>We investigate the effect of pre-IPO investmen...</td>\n      <td>NaN</td>\n      <td>5.html</td>\n      <td>In a similar spirit, we expect that institutio...</td>\n      <td>6</td>\n    </tr>\n    <tr>\n      <th>15</th>\n      <td>https://doi-org.libproxy1.nus.edu.sg/10.1093/r...</td>\n      <td>Public Market Players in the Private World: Im...</td>\n      <td>34</td>\n      <td>5</td>\n      <td>We investigate the effect of pre-IPO investmen...</td>\n      <td>NaN</td>\n      <td>5.html</td>\n      <td>We hypothesize that the institutions’ pre-IPO ...</td>\n      <td>6</td>\n    </tr>\n    <tr>\n      <th>...</th>\n      <td>...</td>\n      <td>...</td>\n      <td>...</td>\n      <td>...</td>\n      <td>...</td>\n      <td>...</td>\n      <td>...</td>\n      <td>...</td>\n      <td>...</td>\n    </tr>\n    <tr>\n      <th>863</th>\n      <td>https://doi-org.libproxy1.nus.edu.sg/10.1093/r...</td>\n      <td>Confronting Information Asymmetries: Evidence ...</td>\n      <td>17</td>\n      <td>2</td>\n      <td>There are relatively few direct tests of the e...</td>\n      <td>NaN</td>\n      <td>1759.html</td>\n      <td>Predictions 6 (VTB and bank debt substitution)...</td>\n      <td>6</td>\n    </tr>\n    <tr>\n      <th>871</th>\n      <td>https://doi-org.libproxy1.nus.edu.sg/10.1093/r...</td>\n      <td>Greener Pastures and the Impact of Dynamic Ins...</td>\n      <td>16</td>\n      <td>4</td>\n      <td>Although institutional investors have a prefer...</td>\n      <td>NaN</td>\n      <td>1779.html</td>\n      <td>If institutions are partially responsible for ...</td>\n      <td>6</td>\n    </tr>\n    <tr>\n      <th>872</th>\n      <td>https://doi-org.libproxy1.nus.edu.sg/10.1093/r...</td>\n      <td>Greener Pastures and the Impact of Dynamic Ins...</td>\n      <td>16</td>\n      <td>4</td>\n      <td>Although institutional investors have a prefer...</td>\n      <td>NaN</td>\n      <td>1779.html</td>\n      <td>We hypothesize that institutional investors ma...</td>\n      <td>6</td>\n    </tr>\n    <tr>\n      <th>920</th>\n      <td>https://doi-org.libproxy1.nus.edu.sg/10.1093/r...</td>\n      <td>Financial Constraints and Stock Returns</td>\n      <td>14</td>\n      <td>2</td>\n      <td>We test whether the impact of financial constr...</td>\n      <td>NaN</td>\n      <td>1894.html</td>\n      <td>They conjecture that common variation in stock...</td>\n      <td>6</td>\n    </tr>\n    <tr>\n      <th>925</th>\n      <td>https://doi-org.libproxy1.nus.edu.sg/10.1093/r...</td>\n      <td>Government Intervention and Adverse Selection ...</td>\n      <td>13</td>\n      <td>2</td>\n      <td>An important group of traders in the foreign e...</td>\n      <td>NaN</td>\n      <td>1935.html</td>\n      <td>In Section 1, we provide a model that shows th...</td>\n      <td>6</td>\n    </tr>\n  </tbody>\n</table>\n<p>75 rows × 9 columns</p>\n</div>"
     },
     "metadata": {},
     "execution_count": 16
    }
   ],
   "source": [
    "H_merged[H_merged['rules']==6]"
   ]
  },
  {
   "cell_type": "code",
   "execution_count": null,
   "metadata": {},
   "outputs": [],
   "source": []
  }
 ]
}