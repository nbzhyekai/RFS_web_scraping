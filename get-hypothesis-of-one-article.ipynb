{
 "metadata": {
  "language_info": {
   "codemirror_mode": {
    "name": "ipython",
    "version": 3
   },
   "file_extension": ".py",
   "mimetype": "text/x-python",
   "name": "python",
   "nbconvert_exporter": "python",
   "pygments_lexer": "ipython3",
   "version": "3.8.3-final"
  },
  "orig_nbformat": 2,
  "kernelspec": {
   "name": "python3",
   "display_name": "Python 3.8.3 64-bit (conda)",
   "metadata": {
    "interpreter": {
     "hash": "5af03e6f6884cdcbf495aa98cbd8d63d5d0ed05506dbd026ba0a4981213ae30b"
    }
   }
  }
 },
 "nbformat": 4,
 "nbformat_minor": 2,
 "cells": [
  {
   "cell_type": "code",
   "execution_count": 1,
   "metadata": {},
   "outputs": [],
   "source": [
    "import requests\n",
    "from bs4 import BeautifulSoup\n",
    "import re\n",
    "import json"
   ]
  },
  {
   "source": [
    "## Case 1: "
   ],
   "cell_type": "markdown",
   "metadata": {}
  },
  {
   "cell_type": "code",
   "execution_count": 100,
   "metadata": {},
   "outputs": [
    {
     "output_type": "stream",
     "name": "stdout",
     "text": [
      "https://academic.oup.com/rfs/article/31/4/1418/3896050\n"
     ]
    }
   ],
   "source": [
    "kv = {'user-agent': 'Mozilla/5.0'}\n",
    "url = \"https://academic.oup.com/rfs/article/31/4/1418/3896050\"\n",
    "print(url)\n",
    "\n",
    "r = requests.get(url, headers=kv, timeout=30)\n",
    "r.raise_for_status()\n",
    "r.status_code\n",
    "r.encoding = r.apparent_encoding"
   ]
  },
  {
   "cell_type": "code",
   "execution_count": 3,
   "metadata": {},
   "outputs": [],
   "source": [
    "soup = BeautifulSoup(r.text, 'html.parser')"
   ]
  },
  {
   "cell_type": "code",
   "execution_count": 4,
   "metadata": {},
   "outputs": [
    {
     "output_type": "stream",
     "name": "stdout",
     "text": [
      "Hypothesis 1.Firm performance increases in the size of the industry tournament prize, as measured by the external pay gap.\nHypothesis 2.To the extent that the trailing CEO can affect risk, then the stock return volatility and riskiness of investment and financial policies of the aspirant’s firm increase in the size of the prize.\nHypothesis 3.A higher probability of the aspirant winning the tournament and capturing the gain increases the incentive effect of the tournament on the performance, risk, and policy of the aspirant’s firm.\n"
     ]
    }
   ],
   "source": [
    "results = soup.find_all(name='div', attrs='statement')\n",
    "\n",
    "for result in results:\n",
    "    content = result.text\n",
    "    # print(content)\n",
    "    if re.search('hypothes', content, re.I):\n",
    "        print(content)"
   ]
  },
  {
   "source": [
    "## Case 2:\n",
    "we (thus) hypothesize that ..."
   ],
   "cell_type": "markdown",
   "metadata": {}
  },
  {
   "cell_type": "code",
   "execution_count": 5,
   "metadata": {},
   "outputs": [
    {
     "output_type": "execute_result",
     "data": {
      "text/plain": [
       "'we hypothesize that the strength of the macroeconomic signal depends on whether investors increase the weight of the sector in the portfolio (strong signal) versus investors trading a small number of stocks in the sector.'"
      ]
     },
     "metadata": {},
     "execution_count": 5
    }
   ],
   "source": [
    "text = \"We conjecture that, beyond the level of active sector orderflow, its composition may be important. Specifically, we hypothesize that the strength of the macroeconomic signal depends on whether investors increase the weight of the sector in the portfolio (strong signal) versus investors trading a small number of stocks in the sector.\"\n",
    "\n",
    "re.search('we.{1,10}hypothesize that.{1,500}\\.', text, re.I).group(0)"
   ]
  },
  {
   "cell_type": "code",
   "execution_count": 6,
   "metadata": {},
   "outputs": [
    {
     "output_type": "execute_result",
     "data": {
      "text/plain": [
       "'we hypothesize that investors, such as blockholders, active investors, or those with short-term horizons, might withhold stock from the equity lending market because of concerns that short selling may lead to a decline in price, have negative feedback effects on corporate policies, and may lead to an increase in the risk of losing monitoring control.'"
      ]
     },
     "metadata": {},
     "execution_count": 6
    }
   ],
   "source": [
    "text = \"In summary, we hypothesize that investors, such as blockholders, active investors, or those with short-term horizons, might withhold stock from the equity lending market because of concerns that short selling may lead to a decline in price, have negative feedback effects on corporate policies, and may lead to an increase in the risk of losing monitoring control. Consequently, stocks with ownership tilted towards larger holdings, investors with short-term horizons, or active investors should exhibit lower lending supply and greater short-sale constraints.\"\n",
    "\n",
    "re.search('we.{1,10}hypothesize that.{1,500}\\.', text, re.I).group(0)\n"
   ]
  },
  {
   "cell_type": "code",
   "execution_count": 7,
   "metadata": {},
   "outputs": [
    {
     "output_type": "stream",
     "name": "stdout",
     "text": [
      "https://academic.oup.com/rfs/article/30/7/2229/3058111\n"
     ]
    }
   ],
   "source": [
    "kv = {'user-agent': 'Mozilla/5.0'}\n",
    "# url = \"https://academic.oup.com/rfs/article/24/11/3688/1589538\"\n",
    "# url = \"https://academic.oup.com/rfs/article/29/12/3211/2528297\"\n",
    "# url = \"https://academic.oup.com/rfs/article/29/11/2885/2583718\"\n",
    "url = \"https://academic.oup.com/rfs/article/30/7/2229/3058111\"\n",
    "print(url)\n",
    "\n",
    "r = requests.get(url, headers=kv, timeout=30)\n",
    "r.raise_for_status()\n",
    "r.status_code\n",
    "r.encoding = r.apparent_encoding"
   ]
  },
  {
   "cell_type": "code",
   "execution_count": 8,
   "metadata": {},
   "outputs": [],
   "source": [
    "soup = BeautifulSoup(r.text, 'html.parser')"
   ]
  },
  {
   "cell_type": "code",
   "execution_count": 9,
   "metadata": {},
   "outputs": [
    {
     "output_type": "stream",
     "name": "stdout",
     "text": [
      "We hypothesize that VESTING is positively associated with the revision in analyst forecasts over the same quarter.\nWe thus hypothesize that vesting equity increases the frequency with which the manager narrowly beats the forecast at announcement.\n"
     ]
    }
   ],
   "source": [
    "results = soup.find_all(name='p', attrs='chapter-para')\n",
    "\n",
    "for result in results:\n",
    "    content = result.text\n",
    "    # print(content)\n",
    "    try:\n",
    "        res = re.search('we.{1,10}hypothesize that.{1,300}\\.', content, re.I)\n",
    "        if res:\n",
    "            print(res.group(0))\n",
    "    except:\n",
    "        pass"
   ]
  },
  {
   "source": [
    "## Case 3\n",
    "Hypothesis 1: Investors holding equity pay more attention to their investments in rising stock markets than in falling markets\n",
    "Hypothesis 1a: We expect firm value to decrease for producers that face an increase in basis risk.\n"
   ],
   "cell_type": "markdown",
   "metadata": {}
  },
  {
   "cell_type": "code",
   "execution_count": 10,
   "metadata": {},
   "outputs": [
    {
     "output_type": "stream",
     "name": "stdout",
     "text": [
      "https://academic.oup.com/rfs/article/29/4/863/1896505\n"
     ]
    }
   ],
   "source": [
    "kv = {'user-agent': 'Mozilla/5.0'}\n",
    "url = \"https://academic.oup.com/rfs/article/29/4/863/1896505\"\n",
    "print(url)\n",
    "\n",
    "r = requests.get(url, headers=kv, timeout=30)\n",
    "r.raise_for_status()\n",
    "r.status_code\n",
    "r.encoding = r.apparent_encoding"
   ]
  },
  {
   "cell_type": "code",
   "execution_count": 11,
   "metadata": {},
   "outputs": [],
   "source": [
    "soup = BeautifulSoup(r.text, 'html.parser')\n"
   ]
  },
  {
   "cell_type": "code",
   "execution_count": 12,
   "metadata": {},
   "outputs": [
    {
     "output_type": "stream",
     "name": "stdout",
     "text": [
      "Hypothesis 1: Investors holding equity pay more attention to their investments in rising stock markets than in falling markets.\nHypothesis 1: Investors holding equity pay more attention to their investments in rising stock markets than in falling markets.\nHypothesis 2: Attention decreases in market volatility.Hypothesis 3: Attention increases in news media coverage of the stock market.\nHypothesis 2: Attention decreases in market volatility.\nHypothesis 3: Attention increases in news media coverage of the stock market.\nHypothesis 4: Patterns in aggregate attention and conditional trading differ due to differing underlying economic drivers.\nHypothesis 4: Patterns in aggregate attention and conditional trading differ due to differing underlying economic drivers.\nHypothesis 5: The average level of attention and ostrich effect behavior are greater for older (closer to retirement) investors and for wealthier investors for whom hedonic information effects are likely to be stronger.Hypothesis 6: Household attention and conditional trading have different demographic patterns.\nHypothesis 5: The average level of attention and ostrich effect behavior are greater for older (closer to retirement) investors and for wealthier investors for whom hedonic information effects are likely to be stronger.\nHypothesis 6: Household attention and conditional trading have different demographic patterns.\nHypothesis 7: Ostrich behavior is positively correlated with greater equity risk bearing.Hypothesis 8: Investors displaying the ostrich effect trade less in down stock markets.\nHypothesis 7: Ostrich behavior is positively correlated with greater equity risk bearing.\nHypothesis 8: Investors displaying the ostrich effect trade less in down stock markets.\nHypothesis 4 says that differences like this across the two components of trading are possible given their different behavioral motivations. However, the net effect of volatility on observed trading in panel C is ambiguous. In specification 3, the relationship is positive and statistically significant (consisten\nhypothesis 5 and greater emotional saliency of retirement account returns with older age. Females are less prone than males to exhibit ostrich behavior. Investors with large account balances are also more prone to ostrich behavior given the negative sign the account size interaction term (consistent with hypothe\n"
     ]
    }
   ],
   "source": [
    "results = soup.find_all(name='p', attrs='chapter-para')\n",
    "\n",
    "for result in results:\n",
    "    content = result.text\n",
    "    # print(content)\n",
    "    try:\n",
    "        res = re.search('hypothesis \\d[a-z]?[\\s:].{1,300}', content, re.I)\n",
    "        if res:\n",
    "            print(res.group(0))\n",
    "    except:\n",
    "        pass"
   ]
  },
  {
   "source": [],
   "cell_type": "markdown",
   "metadata": {}
  },
  {
   "cell_type": "code",
   "execution_count": 13,
   "metadata": {},
   "outputs": [
    {
     "output_type": "stream",
     "name": "stdout",
     "text": [
      "https://academic.oup.com/rfs/article/30/12/4083/3954039\n"
     ]
    }
   ],
   "source": [
    "kv = {'user-agent': 'Mozilla/5.0'}\n",
    "url = \"https://academic.oup.com/rfs/article/30/12/4083/3954039\"\n",
    "print(url)\n",
    "\n",
    "r = requests.get(url, headers=kv, timeout=30)\n",
    "r.raise_for_status()\n",
    "r.status_code\n",
    "r.encoding = r.apparent_encoding"
   ]
  },
  {
   "cell_type": "code",
   "execution_count": 14,
   "metadata": {},
   "outputs": [],
   "source": [
    "soup = BeautifulSoup(r.text, 'html.parser')"
   ]
  },
  {
   "cell_type": "code",
   "execution_count": 15,
   "metadata": {},
   "outputs": [
    {
     "output_type": "stream",
     "name": "stdout",
     "text": [
      "Hypothesis 1a: We expect firm value to decrease for producers that face an increase in basis risk.\nHypothesis 1a: We expect firm value to decrease for producers that face an increase in basis risk.\nHypothesis 1b: We expect to see a more significant drop in firm value for high leverage firms relative to low leverage firms in the face of increased basis risk.\nHypothesis 1b: We expect to see a more significant drop in firm value for high leverage firms relative to low leverage firms in the face of increased basis risk.\nHypothesis 2a: We expect firms to reduce their capital expenditures in the face of increased basis risk.\nHypothesis 2a: We expect firms to reduce their capital expenditures in the face of increased basis risk.\nHypothesis 2b: We expect highly leveraged firms to reduce their capital expenditures significantly more than low leveraged firms in the face of increased basis risk.\nHypothesis 2b: We expect highly leveraged firms to reduce their capital expenditures significantly more than low leveraged firms in the face of increased basis risk.\nHypothesis 2c: We expect highly leveraged firms to sell relatively more assets than low leveraged firms in the face of increased basis risk.\nHypothesis 2c: We expect highly leveraged firms to sell relatively more assets than low leveraged firms in the face of increased basis risk.\nHypothesis 3: We expect highly leveraged firms to delever by issuing relatively less debt following the basis risk shock.\nHypothesis 3: We expect highly leveraged firms to delever by issuing relatively less debt following the basis risk shock.\n"
     ]
    }
   ],
   "source": [
    "results = soup.find_all(name='p', attrs='chapter-para')\n",
    "\n",
    "for result in results:\n",
    "    content = result.text\n",
    "    # print(content)\n",
    "    try:\n",
    "        res = re.search('hypothesis \\d[a-z]?[\\s:].{1,300}', content, re.I)\n",
    "        if res:\n",
    "            print(res.group(0))\n",
    "    except:\n",
    "        pass"
   ]
  },
  {
   "source": [
    "## Case 4:\n",
    "\n",
    "our hypothesis is that .../ our working hypothesis was that .../ our main hypothesis is that ..."
   ],
   "cell_type": "markdown",
   "metadata": {}
  },
  {
   "cell_type": "code",
   "execution_count": 72,
   "metadata": {},
   "outputs": [
    {
     "output_type": "stream",
     "name": "stdout",
     "text": [
      "https://academic.oup.com/rfs/article/32/5/1854/5427780\n"
     ]
    }
   ],
   "source": [
    "kv = {'user-agent': 'Mozilla/5.0'}\n",
    "# url = \"https://academic.oup.com/rfs/article/31/11/4099/5054919\"\n",
    "# url = \"https://academic.oup.com/rfs/article/32/5/1647/5427782\"\n",
    "url = \"https://academic.oup.com/rfs/article/32/5/1854/5427780\"\n",
    "print(url)\n",
    "\n",
    "r = requests.get(url, headers=kv, timeout=30)\n",
    "r.raise_for_status()\n",
    "r.status_code\n",
    "r.encoding = r.apparent_encoding"
   ]
  },
  {
   "cell_type": "code",
   "execution_count": 73,
   "metadata": {},
   "outputs": [],
   "source": [
    "soup = BeautifulSoup(r.text, 'html.parser')"
   ]
  },
  {
   "cell_type": "code",
   "execution_count": 74,
   "metadata": {},
   "outputs": [
    {
     "output_type": "stream",
     "name": "stdout",
     "text": [
      "Our main hypothesis is that the FinTech lending model represents a technological innovation that reduces frictions in mortgage lending, such as lengthy loan processing, capacity constraints, inefficient refinancing, and limited access to finance by some borrowers.\n"
     ]
    }
   ],
   "source": [
    "results = soup.find_all(name='p', attrs='chapter-para')\n",
    "\n",
    "for result in results:\n",
    "    # print(result)\n",
    "    content = result.text\n",
    "    # print(content)\n",
    "    try:\n",
    "        res = re.search(r'Our.{1,10}hypothesis (\\bis\\b|\\bwas\\b) that.{1,300}\\.', content, re.I)\n",
    "        if res:\n",
    "            print(res.group(0))\n",
    "    except:\n",
    "        pass"
   ]
  },
  {
   "source": [
    "## Case 5:\n",
    "\n",
    "we examine/test/investiage the hypothesis that ..."
   ],
   "cell_type": "markdown",
   "metadata": {}
  },
  {
   "cell_type": "code",
   "execution_count": 75,
   "metadata": {},
   "outputs": [
    {
     "output_type": "stream",
     "name": "stdout",
     "text": [
      "https://academic.oup.com/rfs/article/32/11/4117/5315531\n"
     ]
    }
   ],
   "source": [
    "kv = {'user-agent': 'Mozilla/5.0'}\n",
    "url = \"https://academic.oup.com/rfs/article/32/11/4117/5315531\"\n",
    "print(url)\n",
    "\n",
    "r = requests.get(url, headers=kv, timeout=30)\n",
    "r.raise_for_status()\n",
    "r.status_code\n",
    "r.encoding = r.apparent_encoding"
   ]
  },
  {
   "cell_type": "code",
   "execution_count": 76,
   "metadata": {},
   "outputs": [],
   "source": [
    "soup = BeautifulSoup(r.text, 'html.parser')"
   ]
  },
  {
   "cell_type": "code",
   "execution_count": 77,
   "metadata": {},
   "outputs": [
    {
     "output_type": "stream",
     "name": "stdout",
     "text": [
      "we examine the hypothesis that expropriation through SOVs can destroy shareholder value. In poorly governed firms, managers may find it easier to extract resources for their own gain.\n"
     ]
    }
   ],
   "source": [
    "results = soup.find_all(name='p', attrs='chapter-para')\n",
    "\n",
    "for result in results:\n",
    "    # print(result)\n",
    "    content = result.text\n",
    "    # print(content)\n",
    "    try:\n",
    "        res = re.search(r'we.{5,15}the hypothesis that.{1,300}\\.', content, re.I)\n",
    "        if res:\n",
    "            print(res.group(0))\n",
    "    except:\n",
    "        pass"
   ]
  },
  {
   "source": [
    "## Case 6\n",
    "\n",
    "{hypothesis} To test this hypothesis/these hypotheses"
   ],
   "cell_type": "markdown",
   "metadata": {}
  },
  {
   "cell_type": "code",
   "execution_count": 98,
   "metadata": {},
   "outputs": [
    {
     "output_type": "stream",
     "name": "stdout",
     "text": [
      "https://academic.oup.com/rfs/article/32/9/3366/5298322\n"
     ]
    }
   ],
   "source": [
    "kv = {'user-agent': 'Mozilla/5.0'}\n",
    "# url = \"https://academic.oup.com/rfs/article/30/5/1425/2950902\"\n",
    "url = \"https://academic.oup.com/rfs/article/32/9/3366/5298322\"\n",
    "print(url)\n",
    "\n",
    "r = requests.get(url, headers=kv, timeout=30)\n",
    "r.raise_for_status()\n",
    "r.status_code\n",
    "r.encoding = r.apparent_encoding"
   ]
  },
  {
   "cell_type": "code",
   "execution_count": 92,
   "metadata": {},
   "outputs": [],
   "source": [
    "soup = BeautifulSoup(r.text, 'html.parser')"
   ]
  },
  {
   "cell_type": "code",
   "execution_count": 99,
   "metadata": {},
   "outputs": [
    {
     "output_type": "stream",
     "name": "stdout",
     "text": [
      "If embarking on a career during a recession affects a manager’s initial job assignment while also shaping her ultimate career outcome, it raises the question of whether recessions have an independent effect on both of these dimensions or whether the recession’s impact affects career outcomes mainly by distorting the initial job allocation.\n"
     ]
    }
   ],
   "source": [
    "results = soup.find_all(name='p', attrs='chapter-para')\n",
    "\n",
    "for result in results:\n",
    "    # print(result)\n",
    "    content = result.text\n",
    "    # print(content)\n",
    "    try:\n",
    "        res = re.search(r'.{100,400}\\. To test this hypothesis', content)\n",
    "        if res:\n",
    "            print(res.group(0)[:-24]) # remove \"To test this hypothesis\"\n",
    "\n",
    "        res = re.search(r'.{100,400}\\. To test these hypotheses', content)\n",
    "        if res:\n",
    "            print(res.group(0)[:-24]) # remove \"To test this hypothesis\"\n",
    "    except:\n",
    "        pass"
   ]
  },
  {
   "cell_type": "code",
   "execution_count": null,
   "metadata": {},
   "outputs": [],
   "source": []
  }
 ]
}